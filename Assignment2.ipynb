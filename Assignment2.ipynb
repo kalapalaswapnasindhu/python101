{
 "cells": [
  {
   "cell_type": "markdown",
   "metadata": {},
   "source": [
    "# SIMPLE ATM SYSTEM WITH PYTHON SOURCE CODE"
   ]
  },
  {
   "cell_type": "code",
   "execution_count": 7,
   "metadata": {},
   "outputs": [
    {
     "name": "stdout",
     "output_type": "stream",
     "text": [
      "Enter your choice:\n",
      "1.Signin\n",
      "2.Signup\n",
      "3.Exit\n",
      "1\n",
      "Enter Account name:raju10\n",
      "Enter Password4567\n",
      "welcome krishnamraju\n",
      "enter your choice:\n",
      "1.check balance\n",
      "2.Deposit balance\n",
      "3.withdrawl\n",
      "4.logout\n",
      "1\n",
      "your balance: 40000\n",
      "enter your choice:\n",
      "1.check balance\n",
      "2.deposit balance\n",
      "3.withdrawl\n",
      "4.logout\n",
      "4\n",
      "successfully logged out\n"
     ]
    }
   ],
   "source": [
    "database = {\n",
    "    'nrusimhi22': {\n",
    "        'name': 'chittimuri sesha lakshmi nrusimhi',\n",
    "        'age': 18,\n",
    "        'email': 'chseshalakshminrusimhi@gmail.com',\n",
    "        'password': 2212,\n",
    "        'balance': 20000,\n",
    "    },\n",
    "    'raju10': {\n",
    "        'name':'krishnamraju',\n",
    "        'age': 49,\n",
    "        'email': 'raju1005@gmail.com',\n",
    "        'password': 4567,\n",
    "        'balance': 40000,\n",
    "    },\n",
    "     'suryalakshmi02': {\n",
    "        'name': 'suryalakshmi',\n",
    "        'age': 42,\n",
    "        'email': 'lakshmi0207@gmail.com',\n",
    "        'password': 2345,\n",
    "        'balance': 35000,\n",
    "    }\n",
    "}\n",
    "i=int(input(\"Enter your choice:\\n1.Signin\\n2.Signup\\n3.Exit\\n\"))\n",
    "if(i==1):\n",
    "    account=input(\"Enter Account name:\")\n",
    "    passkey=int(input(\"Enter Password\"))\n",
    "    if (account in database.keys() and passkey==database[account]['password']):\n",
    "        print(\"welcome\",database[account]['name'])\n",
    "        j=int(input(\"enter your choice:\\n1.check balance\\n2.Deposit balance\\n3.withdrawl\\n4.logout\\n\"))\n",
    "        while (j<5):\n",
    "            if(j==1):\n",
    "                print(\"your balance:\",database[account]['balance'])\n",
    "            elif(j==2):\n",
    "                y=int(input(\"deposit amount\"))\n",
    "                database[account]['balance']=database[account]['balance']+y\n",
    "            elif(j==3):\n",
    "                z=int(input(\"enter withdraw amount\"))\n",
    "                print(\"collect your cash:\",z)\n",
    "                database[account]['balance']=database[account]['balance']-z\n",
    "            else:\n",
    "                print(\"successfully logged out\")\n",
    "                break\n",
    "            j=int(input(\"enter your choice:\\n1.check balance\\n2.deposit balance\\n3.withdrawl\\n4.logout\\n\"))\n",
    "    else:\n",
    "        print(\"wrong password\")\n",
    "elif(i==2):\n",
    "    account=int(input(\"enter the account number:\"))\n",
    "    details=input(\"enter the fields:name,age,password,amount each seperated by coma and against colon\")\n",
    "    database[account]=details\n",
    "    print(database)\n",
    "    print(\"account is updated successfully\")\n",
    "else:\n",
    "    print(\"exited successfully\")"
   ]
  },
  {
   "cell_type": "code",
   "execution_count": null,
   "metadata": {},
   "outputs": [],
   "source": []
  },
  {
   "cell_type": "code",
   "execution_count": null,
   "metadata": {},
   "outputs": [],
   "source": []
  }
 ],
 "metadata": {
  "kernelspec": {
   "display_name": "Python 3",
   "language": "python",
   "name": "python3"
  }
 },
 "nbformat": 4,
 "nbformat_minor": 2
}
