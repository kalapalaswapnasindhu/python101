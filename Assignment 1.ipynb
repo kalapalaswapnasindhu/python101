{
 "cells": [
  {
   "cell_type": "code",
   "execution_count": 4,
   "metadata": {},
   "outputs": [
    {
     "name": "stdout",
     "output_type": "stream",
     "text": [
      "enter list:74 45 99\n",
      "largest number in the given list: 99\n"
     ]
    }
   ],
   "source": [
    "#1.Python Program to Find the Largest Number in a List\n",
    "l=list(map(int,input(\"enter list:\").split()))\n",
    "print(\"largest number in the given list:\",max(l))"
   ]
  },
  {
   "cell_type": "code",
   "execution_count": 3,
   "metadata": {},
   "outputs": [
    {
     "name": "stdout",
     "output_type": "stream",
     "text": [
      "enter list:22 21 45\n",
      "the second largest number in the given list is: 22\n"
     ]
    }
   ],
   "source": [
    "#2.Python Program to Find the Second Largest Number in a List\n",
    "l=list(map(int,input(\"enter list:\").split()))\n",
    "l=sorted(l)\n",
    "print('the second largest number in the given list is:',l[-2])"
   ]
  },
  {
   "cell_type": "code",
   "execution_count": 2,
   "metadata": {},
   "outputs": [
    {
     "name": "stdout",
     "output_type": "stream",
     "text": [
      "enter list1:1 3 5\n",
      "enter list2:2 4 6\n",
      "the merge sort of 2 lists is: [1, 2, 3, 4, 5, 6]\n"
     ]
    }
   ],
   "source": [
    "#3.Python Program to Merge Two Lists and Sort it\n",
    "l1=list(map(int,input(\"enter list1:\").split()))\n",
    "l2=list(map(int,input(\"enter list2:\").split()))\n",
    "print(\"the merge sort of 2 lists is:\",sorted(l1+l2))"
   ]
  },
  {
   "cell_type": "code",
   "execution_count": 1,
   "metadata": {},
   "outputs": [
    {
     "name": "stdout",
     "output_type": "stream",
     "text": [
      "enter list:4 5 6\n",
      "[6, 5, 4]\n"
     ]
    }
   ],
   "source": [
    "#4.Python Program to Swap the First and Last Value of a List\n",
    "l=list(map(int,input(\"enter list:\").split()))\n",
    "l[0],l[-1]=l[-1],l[0]\n",
    "print(l)"
   ]
  },
  {
   "cell_type": "code",
   "execution_count": null,
   "metadata": {},
   "outputs": [],
   "source": []
  },
  {
   "cell_type": "code",
   "execution_count": null,
   "metadata": {},
   "outputs": [],
   "source": []
  }
 ],
 "metadata": {
  "kernelspec": {
   "display_name": "Python 3",
   "language": "python",
   "name": "python3"
  },
  "language_info": {
   "codemirror_mode": {
    "name": "ipython",
    "version": 3
   },
   "file_extension": ".py",
   "mimetype": "text/x-python",
   "name": "python",
   "nbconvert_exporter": "python",
   "pygments_lexer": "ipython3",
   "version": "3.7.4"
  }
 },
 "nbformat": 4,
 "nbformat_minor": 2
}
